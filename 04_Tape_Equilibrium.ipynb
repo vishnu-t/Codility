{
 "cells": [
  {
   "cell_type": "markdown",
   "metadata": {},
   "source": [
    "### Tape Equilibrium\n",
    "\n",
    "A non-empty zero-indexed array A consisting of N integers is given. Array A represents numbers on a tape.\n",
    "\n",
    "Any integer P, such that 0 < P < N, splits this tape into two non-empty parts: <br />\n",
    "A[0], A[1], ..., A[P − 1] and A[P], A[P + 1], ..., A[N − 1].\n",
    "\n",
    "The difference between the two parts is the value of: <br />\n",
    "|(A[0] + A[1] + ... + A[P − 1]) − (A[P] + A[P + 1] + ... + A[N − 1])|\n",
    "\n",
    "In other words, it is the absolute difference between the sum of the first part and the sum of the second part.\n",
    "\n",
    "For example, consider array A such that:\n",
    "- A[0] = 3\n",
    "- A[1] = 1\n",
    "- A[2] = 2\n",
    "- A[3] = 4\n",
    "- A[4] = 3<br />\n",
    "\n",
    "We can split this tape in four places:\n",
    "\n",
    "- P = 1, difference = |3 − 10| = 7 \n",
    "- P = 2, difference = |4 − 9| = 5 \n",
    "- P = 3, difference = |6 − 7| = 1 \n",
    "- P = 4, difference = |10 − 3| = 7 \n",
    "\n",
    "Write a function:\n",
    "\n",
    "def solution(A) that, given a non-empty zero-indexed array A of N integers, returns the minimal difference that can be achieved.\n",
    "\n",
    "For example, given:\n",
    "\n",
    "- A[0] = 3\n",
    "- A[1] = 1\n",
    "- A[2] = 2\n",
    "- A[3] = 4\n",
    "- A[4] = 3<br />\n",
    "\n",
    "the function should return 1, as explained above.\n",
    "\n",
    "Assume that:\n",
    "\n",
    "N is an integer within the range [2..100,000];<br />\n",
    "each element of array A is an integer within the range [−1,000..1,000].<br />\n",
    "\n",
    "Complexity:<br />\n",
    "expected worst-case time complexity is O(N);<br />\n",
    "expected worst-case space complexity is O(N), beyond input storage (not counting the storage required for input arguments).<br />\n",
    "Elements of input arrays can be modified.\n",
    "\n",
    "https://codility.com/demo/results/trainingGPV2HT-4QZ/"
   ]
  },
  {
   "cell_type": "code",
   "execution_count": 1,
   "metadata": {
    "collapsed": true
   },
   "outputs": [],
   "source": [
    "A = [3, 1, 2, 4, 3]"
   ]
  },
  {
   "cell_type": "code",
   "execution_count": 2,
   "metadata": {
    "collapsed": true
   },
   "outputs": [],
   "source": [
    "head = A[0]\n",
    "tail = sum(A[1:])"
   ]
  },
  {
   "cell_type": "code",
   "execution_count": 3,
   "metadata": {},
   "outputs": [
    {
     "data": {
      "text/plain": [
       "(3, 10)"
      ]
     },
     "execution_count": 3,
     "metadata": {},
     "output_type": "execute_result"
    }
   ],
   "source": [
    "head, tail"
   ]
  },
  {
   "cell_type": "code",
   "execution_count": 4,
   "metadata": {
    "collapsed": true
   },
   "outputs": [],
   "source": [
    "difference = abs(head-tail)"
   ]
  },
  {
   "cell_type": "code",
   "execution_count": 5,
   "metadata": {},
   "outputs": [
    {
     "name": "stdout",
     "output_type": "stream",
     "text": [
      "1\n"
     ]
    }
   ],
   "source": [
    "for index in xrange(1, len(A)-1):\n",
    "    head += A[index]\n",
    "    tail -= A[index]\n",
    "    if abs(head-tail) < difference:\n",
    "        difference = abs(head-tail)\n",
    "        \n",
    "print difference"
   ]
  },
  {
   "cell_type": "code",
   "execution_count": 6,
   "metadata": {},
   "outputs": [
    {
     "data": {
      "text/plain": [
       "1"
      ]
     },
     "execution_count": 6,
     "metadata": {},
     "output_type": "execute_result"
    }
   ],
   "source": [
    "def solution(A):\n",
    "    head = A[0]\n",
    "    tail = sum(A[1:])\n",
    "    difference = abs(head-tail)\n",
    "    for index in xrange(1, len(A)-1):\n",
    "        head += A[index]\n",
    "        tail -= A[index]\n",
    "        if abs(head-tail) < difference:\n",
    "            difference = abs(head-tail)\n",
    "    return difference\n",
    "\n",
    "solution(A)"
   ]
  }
 ],
 "metadata": {
  "kernelspec": {
   "display_name": "Python 2",
   "language": "python",
   "name": "python2"
  },
  "language_info": {
   "codemirror_mode": {
    "name": "ipython",
    "version": 2
   },
   "file_extension": ".py",
   "mimetype": "text/x-python",
   "name": "python",
   "nbconvert_exporter": "python",
   "pygments_lexer": "ipython2",
   "version": "2.7.12"
  }
 },
 "nbformat": 4,
 "nbformat_minor": 2
}
