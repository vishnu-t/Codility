{
 "cells": [
  {
   "cell_type": "markdown",
   "metadata": {},
   "source": [
    "### Max Counters\n",
    "\n",
    "You are given N counters, initially set to 0, and you have two possible operations on them:\n",
    "\n",
    "increase(X) − counter X is increased by 1,<br />\n",
    "max counter − all counters are set to the maximum value of any counter.<br />\n",
    "\n",
    "A non-empty zero-indexed array A of M integers is given. <br />\n",
    "This array represents consecutive operations:<br />\n",
    "if A[K] = X, such that 1 ≤ X ≤ N, then operation K is increase(X),<br />\n",
    "if A[K] = N + 1 then operation K is max counter.<br />\n",
    "\n",
    "For example, given integer N = 5 and array A such that:<br />\n",
    "    \n",
    "    A[0] = 3\n",
    "    A[1] = 4\n",
    "    A[2] = 4\n",
    "    A[3] = 6\n",
    "    A[4] = 1\n",
    "    A[5] = 4\n",
    "    A[6] = 4\n",
    "    \n",
    "the values of the counters after each consecutive operation will be:<br />\n",
    "    \n",
    "    (0, 0, 1, 0, 0)\n",
    "    (0, 0, 1, 1, 0)\n",
    "    (0, 0, 1, 2, 0)\n",
    "    (2, 2, 2, 2, 2)\n",
    "    (3, 2, 2, 2, 2)\n",
    "    (3, 2, 2, 3, 2)\n",
    "    (3, 2, 2, 4, 2)\n",
    "    \n",
    "The goal is to calculate the value of every counter after all operations.\n",
    "\n",
    "Write a function:<br />\n",
    "def solution(N, A)<br />\n",
    "that, given an integer N and a non-empty zero-indexed array A consisting of M integers, returns a sequence of integers representing the values of the counters.\n",
    "\n",
    "The sequence should be returned as:<br />\n",
    "a structure Results (in C), or<br />\n",
    "a vector of integers (in C++), or<br />\n",
    "a record Results (in Pascal), or<br />\n",
    "an array of integers (in any other programming language).\n",
    "\n",
    "For example, given:<br />\n",
    "    \n",
    "    A[0] = 3\n",
    "    A[1] = 4\n",
    "    A[2] = 4\n",
    "    A[3] = 6\n",
    "    A[4] = 1\n",
    "    A[5] = 4\n",
    "    A[6] = 4\n",
    "the function should return [3, 2, 2, 4, 2], as explained above.\n",
    "\n",
    "Assume that:<br />\n",
    "N and M are integers within the range [1..100,000];<br />\n",
    "each element of array A is an integer within the range [1..N + 1].\n",
    "\n",
    "Complexity:<br />\n",
    "expected worst-case time complexity is O(N+M);<br />\n",
    "expected worst-case space complexity is O(N), beyond input storage (not counting the storage required for input arguments).\n",
    "\n",
    "Elements of input arrays can be modified.\n",
    "\n",
    "https://codility.com/demo/results/trainingVCHKT9-VQ6/"
   ]
  },
  {
   "cell_type": "code",
   "execution_count": 1,
   "metadata": {
    "collapsed": true
   },
   "outputs": [],
   "source": [
    "N = 5\n",
    "A = [3, 4, 4, 6, 1, 4, 4]"
   ]
  },
  {
   "cell_type": "code",
   "execution_count": 2,
   "metadata": {},
   "outputs": [
    {
     "data": {
      "text/plain": [
       "[0, 0, 0, 0, 0, 0]"
      ]
     },
     "execution_count": 2,
     "metadata": {},
     "output_type": "execute_result"
    }
   ],
   "source": [
    "counters = [0 for i in xrange(N+1)]\n",
    "counters"
   ]
  },
  {
   "cell_type": "code",
   "execution_count": 3,
   "metadata": {},
   "outputs": [
    {
     "data": {
      "text/plain": [
       "[3, 2, 2, 4, 2]"
      ]
     },
     "execution_count": 3,
     "metadata": {},
     "output_type": "execute_result"
    }
   ],
   "source": [
    "for i in A:\n",
    "    if 1 <= i <= N:\n",
    "        counters[i-1] += 1\n",
    "    elif i == N+1:\n",
    "        counters = [max(counters) for i in xrange(N+1)]\n",
    "        \n",
    "counters.pop()\n",
    "counters"
   ]
  },
  {
   "cell_type": "code",
   "execution_count": 4,
   "metadata": {},
   "outputs": [
    {
     "data": {
      "text/plain": [
       "[3, 2, 2, 4, 2]"
      ]
     },
     "execution_count": 4,
     "metadata": {},
     "output_type": "execute_result"
    }
   ],
   "source": [
    "def solution(N, A):\n",
    "    counters = [0 for i in xrange(N+1)]\n",
    "    for i in A:\n",
    "        if 1 <= i <= N:\n",
    "            counters[i-1] += 1\n",
    "        elif i == N+1:\n",
    "            counters = [max(counters) for i in xrange(N+1)]\n",
    "        \n",
    "    counters.pop()\n",
    "    return counters\n",
    "\n",
    "solution(N, A)"
   ]
  }
 ],
 "metadata": {
  "kernelspec": {
   "display_name": "Python 2",
   "language": "python",
   "name": "python2"
  },
  "language_info": {
   "codemirror_mode": {
    "name": "ipython",
    "version": 2
   },
   "file_extension": ".py",
   "mimetype": "text/x-python",
   "name": "python",
   "nbconvert_exporter": "python",
   "pygments_lexer": "ipython2",
   "version": "2.7.12"
  }
 },
 "nbformat": 4,
 "nbformat_minor": 2
}
