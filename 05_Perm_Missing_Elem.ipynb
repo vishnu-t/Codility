{
 "cells": [
  {
   "cell_type": "markdown",
   "metadata": {},
   "source": [
    "### Missing Element in a Permutation\n",
    "\n",
    "A zero-indexed array A consisting of N different integers is given. <br />\n",
    "The array contains integers in the range [1..(N + 1)], which means that exactly one element is missing.\n",
    "\n",
    "Your goal is to find that missing element.\n",
    "\n",
    "Write a function:\n",
    "\n",
    "def solution(A)<br />\n",
    "that, given a zero-indexed array A, returns the value of the missing element.\n",
    "\n",
    "For example, given array A such that:<br />\n",
    "  A[0] = 2<br />\n",
    "  A[1] = 3<br />\n",
    "  A[2] = 1<br />\n",
    "  A[3] = 5<br />\n",
    "the function should return 4, as it is the missing element.\n",
    "\n",
    "Assume that:<br />\n",
    "N is an integer within the range [0..100,000];<br />\n",
    "the elements of A are all distinct;<br />\n",
    "each element of array A is an integer within the range [1..(N + 1)].<br />\n",
    "\n",
    "Complexity:<br />\n",
    "expected worst-case time complexity is O(N);<br />\n",
    "expected worst-case space complexity is O(1), beyond input storage (not counting the storage required for input arguments).<br />\n",
    "Elements of input arrays can be modified.\n",
    "\n",
    "https://codility.com/demo/results/training4573GS-FR4/"
   ]
  },
  {
   "cell_type": "code",
   "execution_count": 1,
   "metadata": {
    "collapsed": true
   },
   "outputs": [],
   "source": [
    "A = [1,2,3,5]"
   ]
  },
  {
   "cell_type": "code",
   "execution_count": 2,
   "metadata": {
    "collapsed": true
   },
   "outputs": [],
   "source": [
    "# 1 element is migging so add 1 for getting the number of actual elements\n",
    "N = len(A) + 1"
   ]
  },
  {
   "cell_type": "code",
   "execution_count": 3,
   "metadata": {},
   "outputs": [
    {
     "name": "stdout",
     "output_type": "stream",
     "text": [
      "4\n"
     ]
    }
   ],
   "source": [
    "# given that all the numbers including missing number are consecutive \n",
    "# sum of N consecutive numbers = N*(N+1)/2\n",
    "sum_N = (N)*(N+1)/2\n",
    "\n",
    "# calculating sum of Array -> complexity = O(N)\n",
    "sum_A = sum(A)\n",
    "\n",
    "print sum_N - sum_A"
   ]
  },
  {
   "cell_type": "code",
   "execution_count": 4,
   "metadata": {},
   "outputs": [
    {
     "data": {
      "text/plain": [
       "4"
      ]
     },
     "execution_count": 4,
     "metadata": {},
     "output_type": "execute_result"
    }
   ],
   "source": [
    "def solution(A):\n",
    "    N = len(A)+1\n",
    "    sum_A = sum(A)\n",
    "    sum_N = (N)*(N+1)/2\n",
    "    return sum_N - sum_A\n",
    "\n",
    "solution(A)"
   ]
  }
 ],
 "metadata": {
  "kernelspec": {
   "display_name": "Python 2",
   "language": "python",
   "name": "python2"
  },
  "language_info": {
   "codemirror_mode": {
    "name": "ipython",
    "version": 2
   },
   "file_extension": ".py",
   "mimetype": "text/x-python",
   "name": "python",
   "nbconvert_exporter": "python",
   "pygments_lexer": "ipython2",
   "version": "2.7.12"
  }
 },
 "nbformat": 4,
 "nbformat_minor": 2
}
