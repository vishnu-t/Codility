{
 "cells": [
  {
   "cell_type": "markdown",
   "metadata": {},
   "source": [
    "### Odd Occurrences in Array\n",
    "A non-empty zero-indexed array A consisting of N integers is given. The array contains an odd number of elements, and each element of the array can be paired with another element that has the same value, except for one element that is left unpaired.\n",
    "\n",
    "For example, in array A such that:\n",
    "\n",
    "  A[0] = 9  A[1] = 3  A[2] = 9 <br />\n",
    "  A[3] = 3  A[4] = 9  A[5] = 7 <br />\n",
    "  A[6] = 9 <br />\n",
    "the elements at indexes 0 and 2 have value 9, <br />\n",
    "the elements at indexes 1 and 3 have value 3, <br />\n",
    "the elements at indexes 4 and 6 have value 9, <br />\n",
    "the element at index 5 has value 7 and is unpaired. <br />\n",
    "\n",
    "Write a function:\n",
    "\n",
    "def solution(A) that, given an array A consisting of N integers fulfilling the above conditions, returns the value of the unpaired element.\n",
    "\n",
    "For example, given array A such that:\n",
    "\n",
    "  A[0] = 9  A[1] = 3  A[2] = 9 <br />\n",
    "  A[3] = 3  A[4] = 9  A[5] = 7 <br />\n",
    "  A[6] = 9 <br />\n",
    "the function should return 7, as explained in the example above.\n",
    "\n",
    "Assume that:\n",
    "\n",
    "N is an odd integer within the range [1..1,000,000]; <br />\n",
    "each element of array A is an integer within the range [1..1,000,000,000]; <br />\n",
    "all but one of the values in A occur an even number of times.<br />\n",
    "\n",
    "Complexity:<br />\n",
    "expected worst-case time complexity is O(N);<br />\n",
    "expected worst-case space complexity is O(1), beyond input storage (not counting the storage required for input arguments).<br />\n",
    "Elements of input arrays can be modified.\n",
    "\n",
    "My solution (66%): (List Manipulation)<br />\n",
    "https://codility.com/demo/results/training4FYJV9-PAR/\n",
    "\n",
    "Optimum solution (100%): (XOR operator)<br />\n",
    "https://codesays.com/2015/solution-to-odd-occurrences-in-array-by-codility/<br />\n",
    "https://codility.com/demo/results/training47FFWT-P9V/"
   ]
  },
  {
   "cell_type": "code",
   "execution_count": 1,
   "metadata": {
    "collapsed": true
   },
   "outputs": [],
   "source": [
    "A = [9, 3, 9, 3, 9, 7, 9]"
   ]
  },
  {
   "cell_type": "code",
   "execution_count": 2,
   "metadata": {},
   "outputs": [
    {
     "name": "stdout",
     "output_type": "stream",
     "text": [
      "0 9 [9, 3, 9, 3, 9, 7, 9] [3, 9, 3, 9, 7, 9]\n",
      "1 3 ['-', 3, '-', 3, 9, 7, 9] ['-', 3, 9, 7, 9]\n",
      "2 - ['-', '-', '-', '-', 9, 7, 9] ['-', 9, 7, 9]\n",
      "3 - ['-', '-', '-', '-', 9, 7, 9] [9, 7, 9]\n",
      "4 9 ['-', '-', '-', '-', 9, 7, 9] [7, 9]\n",
      "5 7 ['-', '-', '-', '-', '-', 7, '-'] ['-']\n",
      "6 - ['-', '-', '-', '-', '-', 7, '-'] []\n"
     ]
    }
   ],
   "source": [
    "for i,j in enumerate(A):\n",
    "    print i,j, A, A[i+1:]\n",
    "    if j in A[i+1:]and j!='-':\n",
    "        next_index = A[i+1:].index(j)\n",
    "        A[i] = '-'\n",
    "        A[i+1+next_index] = '-'"
   ]
  },
  {
   "cell_type": "code",
   "execution_count": 3,
   "metadata": {},
   "outputs": [
    {
     "name": "stdout",
     "output_type": "stream",
     "text": [
      "7\n"
     ]
    }
   ],
   "source": [
    "def remove_duplicates(A):\n",
    "    for i,j in enumerate(A):\n",
    "        #print i,j, A, A[i+1:]\n",
    "        if j in A[i+1:]and j!='-':\n",
    "            next_index = A[i+1:].index(j)\n",
    "            A[i] = '-'\n",
    "            A[i+1+next_index] = '-'\n",
    "    return A\n",
    "\n",
    "B = remove_duplicates(A)\n",
    "print filter(lambda i: i != '-', B)[0]"
   ]
  },
  {
   "cell_type": "code",
   "execution_count": 4,
   "metadata": {},
   "outputs": [
    {
     "data": {
      "text/plain": [
       "7"
      ]
     },
     "execution_count": 4,
     "metadata": {},
     "output_type": "execute_result"
    }
   ],
   "source": [
    "def remove_duplicates(A):\n",
    "    for i,j in enumerate(A):\n",
    "        #print i,j, A, A[i+1:]\n",
    "        if j in A[i+1:]and j!='-':\n",
    "            next_index = A[i+1:].index(j)\n",
    "            A[i] = '-'\n",
    "            A[i+1+next_index] = '-'\n",
    "    return A\n",
    "\n",
    "def odd_occurrences_in_array(A):\n",
    "    B = remove_duplicates(A)\n",
    "    return filter(lambda i: i != '-', B)[0]\n",
    "\n",
    "odd_occurrences_in_array(A)"
   ]
  },
  {
   "cell_type": "code",
   "execution_count": 5,
   "metadata": {
    "collapsed": true
   },
   "outputs": [],
   "source": [
    "A = [9, 3, 9, 3, 9, 7, 9]\n",
    "def solution(A):\n",
    "    result = 0\n",
    "    for number in A:\n",
    "        result ^= number        \n",
    "    return result"
   ]
  },
  {
   "cell_type": "code",
   "execution_count": 6,
   "metadata": {},
   "outputs": [
    {
     "data": {
      "text/plain": [
       "7"
      ]
     },
     "execution_count": 6,
     "metadata": {},
     "output_type": "execute_result"
    }
   ],
   "source": [
    "solution(A)"
   ]
  }
 ],
 "metadata": {
  "kernelspec": {
   "display_name": "Python 2",
   "language": "python",
   "name": "python2"
  },
  "language_info": {
   "codemirror_mode": {
    "name": "ipython",
    "version": 2
   },
   "file_extension": ".py",
   "mimetype": "text/x-python",
   "name": "python",
   "nbconvert_exporter": "python",
   "pygments_lexer": "ipython2",
   "version": "2.7.12"
  }
 },
 "nbformat": 4,
 "nbformat_minor": 2
}
