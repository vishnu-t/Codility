{
 "cells": [
  {
   "cell_type": "markdown",
   "metadata": {},
   "source": [
    "### Frog Jump\n",
    "\n",
    "A small frog wants to get to the other side of the road. <br />\n",
    "The frog is currently located at position X and wants to get to a position greater than or equal to Y. The small frog always jumps a fixed distance, D.\n",
    "\n",
    "Count the minimal number of jumps that the small frog must perform to reach its target.\n",
    "\n",
    "Write a function:\n",
    "\n",
    "def solution(X, Y, D)<br />\n",
    "that, given three integers X, Y and D, returns the minimal number of jumps from position X to a position equal to or greater than Y.\n",
    "\n",
    "For example, given:<br />\n",
    "  X = 10<br />\n",
    "  Y = 85<br />\n",
    "  D = 30<br />\n",
    "the function should return 3, because the frog will be positioned as follows:\n",
    "\n",
    "after the first jump, at position 10 + 30 = 40<br />\n",
    "after the second jump, at position 10 + 30 + 30 = 70<br />\n",
    "after the third jump, at position 10 + 30 + 30 + 30 = 100<br />\n",
    "\n",
    "Assume that:<br />\n",
    "X, Y and D are integers within the range [1..1,000,000,000];<br />\n",
    "X ≤ Y.<br />\n",
    "\n",
    "Complexity:<br />\n",
    "expected worst-case time complexity is O(1);<br />\n",
    "expected worst-case space complexity is O(1).\n",
    "\n",
    "https://codility.com/demo/results/trainingMJ8DV7-QXJ/ (Using While loop)\n",
    "\n",
    "https://codility.com/demo/results/trainingE67XWJ-GVD/ (Using simple Math)"
   ]
  },
  {
   "cell_type": "code",
   "execution_count": 1,
   "metadata": {
    "collapsed": true
   },
   "outputs": [],
   "source": [
    "X = 10\n",
    "Y = 85\n",
    "D = 30"
   ]
  },
  {
   "cell_type": "code",
   "execution_count": 2,
   "metadata": {},
   "outputs": [
    {
     "name": "stdout",
     "output_type": "stream",
     "text": [
      "3\n"
     ]
    }
   ],
   "source": [
    "# Using simple Math\n",
    "distance = Y - X\n",
    "if distance % D == 0:\n",
    "    print distance/D\n",
    "else:\n",
    "    print (distance/D) + 1"
   ]
  },
  {
   "cell_type": "code",
   "execution_count": 3,
   "metadata": {},
   "outputs": [
    {
     "data": {
      "text/plain": [
       "3"
      ]
     },
     "execution_count": 3,
     "metadata": {},
     "output_type": "execute_result"
    }
   ],
   "source": [
    "# Using simple Math\n",
    "def solution(X, Y, D):\n",
    "    distance = Y - X\n",
    "    if distance % D == 0:\n",
    "        return distance/D\n",
    "    else:\n",
    "        return (distance/D) + 1\n",
    "\n",
    "solution(X, Y, D)"
   ]
  },
  {
   "cell_type": "code",
   "execution_count": 4,
   "metadata": {},
   "outputs": [
    {
     "name": "stdout",
     "output_type": "stream",
     "text": [
      "3\n"
     ]
    }
   ],
   "source": [
    "# Using While loop\n",
    "jumps = 0\n",
    "while X <= Y:\n",
    "    X += D\n",
    "    jumps += 1\n",
    "print jumps"
   ]
  },
  {
   "cell_type": "code",
   "execution_count": 5,
   "metadata": {},
   "outputs": [
    {
     "data": {
      "text/plain": [
       "3"
      ]
     },
     "execution_count": 5,
     "metadata": {},
     "output_type": "execute_result"
    }
   ],
   "source": [
    "# Using While loop\n",
    "def solution(X, Y, D):\n",
    "    jumps = 0\n",
    "    while X < Y:\n",
    "        X += D\n",
    "        jumps += 1\n",
    "    return jumps\n",
    "\n",
    "solution(10, 85, 30)"
   ]
  }
 ],
 "metadata": {
  "kernelspec": {
   "display_name": "Python 2",
   "language": "python",
   "name": "python2"
  },
  "language_info": {
   "codemirror_mode": {
    "name": "ipython",
    "version": 2
   },
   "file_extension": ".py",
   "mimetype": "text/x-python",
   "name": "python",
   "nbconvert_exporter": "python",
   "pygments_lexer": "ipython2",
   "version": "2.7.12"
  }
 },
 "nbformat": 4,
 "nbformat_minor": 2
}
