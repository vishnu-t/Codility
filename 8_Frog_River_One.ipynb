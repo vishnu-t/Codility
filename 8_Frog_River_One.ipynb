{
 "cells": [
  {
   "cell_type": "markdown",
   "metadata": {},
   "source": [
    "### Frog River One\n",
    "\n",
    "A small frog wants to get to the other side of a river. The frog is initially located on one bank of the river (position 0) and wants to get to the opposite bank (position X+1). Leaves fall from a tree onto the surface of the river.\n",
    "\n",
    "You are given a zero-indexed array A consisting of N integers representing the falling leaves. A[K] represents the position where one leaf falls at time K, measured in seconds.\n",
    "\n",
    "The goal is to find the earliest time when the frog can jump to the other side of the river. The frog can cross only when leaves appear at every position across the river from 1 to X (that is, we want to find the earliest moment when all the positions from 1 to X are covered by leaves). You may assume that the speed of the current in the river is negligibly small, i.e. the leaves do not change their positions once they fall in the river.\n",
    "\n",
    "For example, you are given integer X = 5 and array A such that:\n",
    "\n",
    "    A[0] = 1\n",
    "    A[1] = 3\n",
    "    A[2] = 1\n",
    "    A[3] = 4\n",
    "    A[4] = 2\n",
    "    A[5] = 3\n",
    "    A[6] = 5\n",
    "    A[7] = 4\n",
    "In second 6, a leaf falls into position 5. This is the earliest time when leaves appear in every position across the river.\n",
    "\n",
    "Write a function:\n",
    "\n",
    "def solution(X, A)\n",
    "that, given a non-empty zero-indexed array A consisting of N integers and integer X, returns the earliest time when the frog can jump to the other side of the river.\n",
    "\n",
    "If the frog is never able to jump to the other side of the river, the function should return −1.\n",
    "\n",
    "For example, given X = 5 and array A such that:\n",
    "\n",
    "    A[0] = 1\n",
    "    A[1] = 3\n",
    "    A[2] = 1\n",
    "    A[3] = 4\n",
    "    A[4] = 2\n",
    "    A[5] = 3\n",
    "    A[6] = 5\n",
    "    A[7] = 4\n",
    "the function should return 6, as explained above.\n",
    "\n",
    "Assume that:<br />\n",
    "N and X are integers within the range [1..100,000];<br />\n",
    "each element of array A is an integer within the range [1..X].<br />\n",
    "\n",
    "Complexity:<br />\n",
    "expected worst-case time complexity is O(N);<br />\n",
    "expected worst-case space complexity is O(X), beyond input storage (not counting the storage required for input arguments).<br />\n",
    "Elements of input arrays can be modified.\n",
    "\n",
    "https://codility.com/demo/results/trainingA52PB6-Y5X/"
   ]
  },
  {
   "cell_type": "code",
   "execution_count": 1,
   "metadata": {},
   "outputs": [
    {
     "name": "stdout",
     "output_type": "stream",
     "text": [
      "-1\n"
     ]
    }
   ],
   "source": [
    "X = 5\n",
    "A = [1,3,1,4,2,3,4,6]\n",
    "required_set = set([i+1 for i in xrange(X)])\n",
    "\n",
    "if required_set.issubset(A) == True:\n",
    "    while required_set.issubset(set(A[:X])) == False:\n",
    "        X += 1\n",
    "else:\n",
    "    X = 0\n",
    "\n",
    "print X-1"
   ]
  },
  {
   "cell_type": "code",
   "execution_count": 2,
   "metadata": {
    "collapsed": true
   },
   "outputs": [],
   "source": [
    "def solution(X, A):\n",
    "    required_set = set([i+1 for i in xrange(X)])\n",
    "    if required_set.issubset(A) == True:\n",
    "        while required_set.issubset(set(A[:X])) == False:\n",
    "            X += 1\n",
    "    else:\n",
    "        X = 0\n",
    "        \n",
    "    return X-1"
   ]
  },
  {
   "cell_type": "code",
   "execution_count": 3,
   "metadata": {},
   "outputs": [
    {
     "data": {
      "text/plain": [
       "6"
      ]
     },
     "execution_count": 3,
     "metadata": {},
     "output_type": "execute_result"
    }
   ],
   "source": [
    "X = 5\n",
    "A = [1,3,1,4,2,3,5,4]\n",
    "solution(X, A)"
   ]
  }
 ],
 "metadata": {
  "kernelspec": {
   "display_name": "Python 2",
   "language": "python",
   "name": "python2"
  },
  "language_info": {
   "codemirror_mode": {
    "name": "ipython",
    "version": 2
   },
   "file_extension": ".py",
   "mimetype": "text/x-python",
   "name": "python",
   "nbconvert_exporter": "python",
   "pygments_lexer": "ipython2",
   "version": "2.7.12"
  }
 },
 "nbformat": 4,
 "nbformat_minor": 2
}
