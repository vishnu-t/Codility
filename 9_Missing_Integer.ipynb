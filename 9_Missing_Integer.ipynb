{
 "cells": [
  {
   "cell_type": "markdown",
   "metadata": {},
   "source": [
    "### Missing Integer\n",
    "\n",
    "Write a function:\n",
    "\n",
    "def solution(A)<br />\n",
    "that, given an array A of N integers, returns the smallest positive integer (greater than 0) that does not occur in A.\n",
    "\n",
    "For example, given A = [1, 3, 6, 4, 1, 2], the function should return 5.\n",
    "\n",
    "Given A = [1, 2, 3], the function should return 4.\n",
    "\n",
    "Given A = [−1, −3], the function should return 1.\n",
    "\n",
    "Assume that:<br />\n",
    "N is an integer within the range [1..100,000];<br />\n",
    "each element of array A is an integer within the range [−1,000,000..1,000,000].\n",
    "\n",
    "Complexity:<br />\n",
    "expected worst-case time complexity is O(N);<br />\n",
    "expected worst-case space complexity is O(N), beyond input storage (not counting the storage required for input arguments).<br />\n",
    "Elements of input arrays can be modified.\n",
    "\n",
    "https://codility.com/demo/results/trainingNSHGJ9-JVT/"
   ]
  },
  {
   "cell_type": "code",
   "execution_count": 1,
   "metadata": {
    "collapsed": true
   },
   "outputs": [],
   "source": [
    "A = [1, 2, 3]"
   ]
  },
  {
   "cell_type": "code",
   "execution_count": 2,
   "metadata": {},
   "outputs": [
    {
     "data": {
      "text/plain": [
       "4"
      ]
     },
     "execution_count": 2,
     "metadata": {},
     "output_type": "execute_result"
    }
   ],
   "source": [
    "def solution(A):\n",
    "    B = [i+1 for i in xrange(len(A))]\n",
    "    set_diff = set(B)-set(A)\n",
    "    if len(set_diff)>0:\n",
    "        result = min(set(B)-set(A))\n",
    "        if result > 0:\n",
    "            return result\n",
    "        else:\n",
    "            return 1\n",
    "    else:\n",
    "        return len(A)+1\n",
    "solution(A)"
   ]
  }
 ],
 "metadata": {
  "kernelspec": {
   "display_name": "Python 2",
   "language": "python",
   "name": "python2"
  },
  "language_info": {
   "codemirror_mode": {
    "name": "ipython",
    "version": 2
   },
   "file_extension": ".py",
   "mimetype": "text/x-python",
   "name": "python",
   "nbconvert_exporter": "python",
   "pygments_lexer": "ipython2",
   "version": "2.7.12"
  }
 },
 "nbformat": 4,
 "nbformat_minor": 2
}
